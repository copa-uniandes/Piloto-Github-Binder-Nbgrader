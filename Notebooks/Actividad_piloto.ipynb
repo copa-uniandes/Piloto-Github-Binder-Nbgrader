{
 "cells": [
  {
   "cell_type": "markdown",
   "id": "registered-bryan",
   "metadata": {
    "deletable": false,
    "editable": false,
    "nbgrader": {
     "cell_type": "markdown",
     "checksum": "a51ae8776793b1ec50b1cd5ad8fa8f5e",
     "grade": false,
     "grade_id": "header",
     "locked": true,
     "schema_version": 3,
     "solution": false,
     "task": false
    }
   },
   "source": [
    "# Actividad Piloto\n",
    "\n",
    "## Iterara lo número del 0 al 99"
   ]
  },
  {
   "cell_type": "markdown",
   "id": "bb2e7ab4",
   "metadata": {
    "deletable": false,
    "editable": false,
    "nbgrader": {
     "cell_type": "markdown",
     "checksum": "41c4dc65848e7a48422c191917db9079",
     "grade": false,
     "grade_id": "enunciado",
     "locked": true,
     "schema_version": 3,
     "solution": false,
     "task": false
    }
   },
   "source": [
    "## Instrucciones\n",
    "\n",
    "Cree una función llamada `numeritos` que retorne en una lista los enteros del 0 al 99."
   ]
  },
  {
   "cell_type": "code",
   "execution_count": null,
   "id": "animated-brother",
   "metadata": {
    "deletable": false,
    "nbgrader": {
     "cell_type": "code",
     "checksum": "153a8ecff70b8e4289b47399510348c8",
     "grade": false,
     "grade_id": "solucion",
     "locked": false,
     "schema_version": 3,
     "solution": true,
     "task": false
    }
   },
   "outputs": [],
   "source": [
    "# YOUR CODE HERE\n",
    "raise NotImplementedError()"
   ]
  },
  {
   "cell_type": "code",
   "execution_count": null,
   "id": "03e66bdc",
   "metadata": {
    "deletable": false,
    "editable": false,
    "nbgrader": {
     "cell_type": "code",
     "checksum": "b6e322a8bc516c24060fe31b38241e6a",
     "grade": true,
     "grade_id": "test",
     "locked": true,
     "points": 1,
     "schema_version": 3,
     "solution": false,
     "task": false
    }
   },
   "outputs": [],
   "source": [
    "## AUTO-CALIFICADOR\n",
    "\n",
    "# Caso 1: no existe la función.\n",
    "try:\n",
    "    numeritos\n",
    "    assert type(numeritos) == type(lambda:None)\n",
    "except:\n",
    "    raise NotImplementedError(\"No existe una función llamada numeritos.\",)\n",
    "    \n",
    "# Caso 2: la función es interrumpida por errores durante su ejecución.\n",
    "try:\n",
    "    numeritos()\n",
    "except:\n",
    "    raise RuntimeError(\"Tu función produce un error al ejecutarse.\")\n",
    "\n",
    "# Caso 3: no retorna una cadena\n",
    "assert type(numeritos()) == list, f\"Tu función debe retornar un valor de tipo {list.__name__}.\"\n",
    "\n",
    "# Caso 4: respuesta explicita\n",
    "assert len(numeritos()) == 100, \"Tu función debe retornar una lista de longitud 100.\"\n",
    "\n",
    "# Caso 5: la lista contiene solo números enteros\n",
    "for i in numeritos():\n",
    "    assert type(i) == int, f\"La lista que retorna tu función contiene elementos que no son números enteros ({int.__name__}).\"\n",
    "\n",
    "# Caso 6: el primer elemento no es el número 0\n",
    "assert numeritos()[0] == 0, \"El primer elemento de la lista que retorna tu función no es el número 0.\"\n",
    "\n",
    "# Caso 7: cada elemento subsecuente es uno mas que el anterior\n",
    "for i in range(1, len(numeritos())):\n",
    "    assert numeritos()[i] - numeritos()[i-1] == 1, \"Los elementos de la lista que retorna tu función no están bien ordenados o son incorrectos.\"\n",
    "\n",
    "# Mensaje de felicitaciones\n",
    "print(\"Felicidades, realizaste este ejercicio correctamente.\")\n"
   ]
  },
  {
   "cell_type": "markdown",
   "id": "meaning-local",
   "metadata": {
    "deletable": false,
    "editable": false,
    "nbgrader": {
     "cell_type": "markdown",
     "checksum": "d19c6c171c7a305a90b4b8aa5f7461d1",
     "grade": false,
     "grade_id": "creditos",
     "locked": true,
     "schema_version": 3,
     "solution": false,
     "task": false
    }
   },
   "source": [
    "## Créditos\n",
    "\n",
    "**Autor(es):** Alejandro Mantilla, Tobia Gasparoni\n",
    "\n",
    "**Fecha última actualización:**: 11/08/2021"
   ]
  }
 ],
 "metadata": {
  "kernelspec": {
   "display_name": "Python 3",
   "language": "python",
   "name": "python3"
  },
  "language_info": {
   "codemirror_mode": {
    "name": "ipython",
    "version": 3
   },
   "file_extension": ".py",
   "mimetype": "text/x-python",
   "name": "python",
   "nbconvert_exporter": "python",
   "pygments_lexer": "ipython3",
   "version": "3.7.10"
  }
 },
 "nbformat": 4,
 "nbformat_minor": 5
}
